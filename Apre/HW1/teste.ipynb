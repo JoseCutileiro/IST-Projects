{
 "cells": [
  {
   "cell_type": "markdown",
   "metadata": {},
   "source": [
    "# Libraries for the project\n",
    "\n",
    "1. sklearn\n",
    "2. pandas\n",
    "3. scipy\n",
    "4. seaborn \n",
    "5. matplotlib"
   ]
  },
  {
   "cell_type": "code",
   "execution_count": null,
   "metadata": {},
   "outputs": [],
   "source": []
  }
 ],
 "metadata": {
  "kernelspec": {
   "display_name": "Python 3.9.0 64-bit",
   "language": "python",
   "name": "python3"
  },
  "language_info": {
   "codemirror_mode": {
    "name": "ipython",
    "version": 3
   },
   "file_extension": ".py",
   "mimetype": "text/x-python",
   "name": "python",
   "nbconvert_exporter": "python",
   "pygments_lexer": "ipython3",
   "version": "3.9.0"
  },
  "orig_nbformat": 4,
  "vscode": {
   "interpreter": {
    "hash": "e9b7c8fa3cf543b0a76c736831147a14312f32c275c6f654815a02eeb543544c"
   }
  }
 },
 "nbformat": 4,
 "nbformat_minor": 2
}
