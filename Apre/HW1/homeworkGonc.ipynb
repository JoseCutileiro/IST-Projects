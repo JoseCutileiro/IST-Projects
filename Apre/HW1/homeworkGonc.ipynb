{
 "cells": [
  {
   "cell_type": "code",
   "execution_count": 10,
   "metadata": {},
   "outputs": [
    {
     "name": "stdout",
     "output_type": "stream",
     "text": [
      "Training classifier...\n",
      "Testing classifier...\n",
      "1.0\n",
      "0.8061674008810573\n"
     ]
    },
    {
     "data": {
      "text/plain": [
       "'\\n# BRINCADEIRAS DO GONCALO\\n# Plot everything\\nconfusion_matrix = metrics.confusion_matrix(y_test, y_predicted)\\nmatrix_df = pd.DataFrame(confusion_matrix)\\nax = plt.axes()\\nsns.set(font_scale=1.3)\\nplt.figure(figsize=(10,7))\\nsns.heatmap(matrix_df, annot=True, fmt=\"g\", ax=ax, cmap=\"magma\")\\nax.set_title(\\'Confusion Matrix - Decision Tree\\')\\nax.set_xlabel(\"Predicted label\", fontsize =15)\\nax.set_ylabel(\"True Label\", fontsize=15)\\ntry:\\n    ax.set_xticklabels(list(y))\\n    ax.set_yticklabels(list(y), rotation = 0)\\nexcept:\\n    pass\\nplt.show()\\n'"
      ]
     },
     "execution_count": 10,
     "metadata": {},
     "output_type": "execute_result"
    }
   ],
   "source": [
    "from matplotlib import pyplot as plt\n",
    "from scipy.io.arff import loadarff\n",
    "from sklearn import metrics, tree\n",
    "from sklearn.model_selection import train_test_split\n",
    "from sklearn.feature_selection import SelectKBest, mutual_info_classif\n",
    "import pandas as pd\n",
    "import seaborn as sns\n",
    "\n",
    "\n",
    "# Reading the ARFF file\n",
    "data = loadarff('pd_speech.arff')\n",
    "df = pd.DataFrame(data[0])\n",
    "df['class'] = df['class'].str.decode('utf-8')\n",
    "\n",
    "# Split in data and targets\n",
    "X = df.drop('class', axis=1)\n",
    "y = df['class']\n",
    "\n",
    "labels = list(set(y))\n",
    "\n",
    "# Split data in test and training set\n",
    "X_train, X_test, y_train, y_test = train_test_split(X, y, test_size=0.3, train_size=0.7, random_state=1, stratify=y)\n",
    "\n",
    "# Feature selection\n",
    "selector = SelectKBest(mutual_info_classif, k=20)\n",
    "selector.fit_transform(X_train, y_train)\n",
    "cols_indexes = selector.get_support(indices=True)\n",
    "selected_columns = X.iloc[:,cols_indexes].columns.tolist()\n",
    "\n",
    "# Reduce training and testing sets\n",
    "X_train_reduced = X_train[selected_columns]\n",
    "X_test_reduced = X_test[selected_columns]\n",
    "\n",
    "# Create and train the classifier\n",
    "classifier = tree.DecisionTreeClassifier()\n",
    "print(\"Training classifier...\")\n",
    "classifier = classifier.fit(X_train_reduced, y_train)\n",
    "\n",
    "# Test classifier and compute scores\n",
    "print(\"Testing classifier...\")\n",
    "y_predicted = classifier.predict(X_test_reduced)\n",
    "\n",
    "accuracy = classifier.score(X_test_reduced, y_test)\n",
    "train_accuracy = classifier.score(X_train_reduced, y_train)\n",
    "\n",
    "print(train_accuracy)\n",
    "print(accuracy)\n",
    "\n",
    "\n",
    "# BRINCADEIRAS DO GONCALO\n",
    "# Plot everything\n",
    "confusion_matrix = metrics.confusion_matrix(y_test, y_predicted)\n",
    "matrix_df = pd.DataFrame(confusion_matrix)\n",
    "ax = plt.axes()\n",
    "sns.set(font_scale=1.3)\n",
    "plt.figure(figsize=(10,7))\n",
    "sns.heatmap(matrix_df, annot=True, fmt=\"g\", ax=ax, cmap=\"magma\")\n",
    "ax.set_title('Confusion Matrix - Decision Tree')\n",
    "ax.set_xlabel(\"Predicted label\", fontsize =15)\n",
    "ax.set_ylabel(\"True Label\", fontsize=15)\n",
    "try:\n",
    "    ax.set_xticklabels(list(y))\n",
    "    ax.set_yticklabels(list(y), rotation = 0)\n",
    "except:\n",
    "    pass\n",
    "plt.show()\n"
   ]
  }
 ],
 "metadata": {
  "kernelspec": {
   "display_name": "Python 3.9.0 64-bit",
   "language": "python",
   "name": "python3"
  },
  "language_info": {
   "codemirror_mode": {
    "name": "ipython",
    "version": 3
   },
   "file_extension": ".py",
   "mimetype": "text/x-python",
   "name": "python",
   "nbconvert_exporter": "python",
   "pygments_lexer": "ipython3",
   "version": "3.9.0"
  },
  "orig_nbformat": 4,
  "vscode": {
   "interpreter": {
    "hash": "e9b7c8fa3cf543b0a76c736831147a14312f32c275c6f654815a02eeb543544c"
   }
  }
 },
 "nbformat": 4,
 "nbformat_minor": 2
}
